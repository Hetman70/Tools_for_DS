{
 "cells": [
  {
   "cell_type": "markdown",
   "id": "af1384b2-5586-43a9-9f1a-cfffff8c9bac",
   "metadata": {},
   "source": [
    "# This is the title of the notebook"
   ]
  },
  {
   "cell_type": "markdown",
   "id": "1cd3a200-9984-4e22-8e97-c3407924a49b",
   "metadata": {
    "tags": []
   },
   "source": [
    "## Introduction\n",
    "\n",
    "Welcome to this final project! In this notebook, we will explore various aspects of data science, including languages, libraries, tools, and basic arithmetic operations. Data science has become an integral part of numerous industries, enabling us to extract valuable insights from vast amounts of data. By completing this project, you will gain a better understanding of the fundamental concepts and tools used in data science. Let's dive in and explore the exciting world of data science together!"
   ]
  },
  {
   "cell_type": "markdown",
   "id": "53f40d63-8db8-41da-a6bf-7b8ab59ca6b4",
   "metadata": {
    "tags": []
   },
   "source": [
    "**Data Science Languages**\n",
    "\n",
    "1. Python\n",
    "2. R\n",
    "3. SQL\n",
    "4. Julia\n",
    "5. Scala\n",
    "6. Java\n",
    "7. MATLAB\n",
    "8. SAS\n",
    "9. JavaScript\n",
    "10. Go"
   ]
  },
  {
   "cell_type": "markdown",
   "id": "00233fac-0ca3-4fea-a46b-6e1b6a87d054",
   "metadata": {},
   "source": [
    "**Data Science Libraries**\n",
    "\n",
    "1. NumPy\n",
    "2. Pandas\n",
    "3. SciPy\n",
    "4. Matplotlib\n",
    "5. Seaborn\n",
    "6. Scikit-learn\n",
    "7. TensorFlow\n",
    "8. PyTorch\n",
    "9. Keras\n",
    "10. NLTK (Natural Language Toolkit)"
   ]
  },
  {
   "cell_type": "markdown",
   "id": "7d983340-606b-4ce8-b0a0-021d47415202",
   "metadata": {},
   "source": [
    "**Data Science Tools**\n",
    "\n",
    "| Tool           | Description                                                |\n",
    "|----------------|------------------------------------------------------------|\n",
    "| Jupyter Notebook | Interactive development environment for data science tasks. |\n",
    "| Anaconda       | Distribution of Python and R programming languages for data science and machine learning tasks. |\n",
    "| Docker         | Platform for developing, shipping, and running applications in containers. Useful for creating reproducible environments. |\n",
    "| Git            | Version control system for tracking changes in code. Useful for collaboration and managing project history. |\n",
    "| Tableau        | Data visualization software for creating interactive dashboards and reports. |\n",
    "| Apache Spark   | Distributed computing framework for processing large datasets. |\n",
    "| D3.js          | JavaScript library for creating interactive data visualizations in web browsers. |\n",
    "| Apache Hadoop  | Distributed storage and processing framework for big data applications. |\n",
    "| Excel          | Spreadsheet software often used for data analysis and visualization. |\n",
    "| SAS            | Statistical analysis software commonly used in academia and industry. |"
   ]
  },
  {
   "cell_type": "markdown",
   "id": "c9228125-7d15-4c65-ba04-e8f1261cab71",
   "metadata": {},
   "source": [
    "**Arithmetic Expression Examples**\n",
    "\n",
    "In this section, we will explore various arithmetic expressions to demonstrate basic mathematical operations in programming. These examples will cover addition, subtraction, multiplication, division, and modulus operations. Understanding these fundamental operations is crucial for performing calculations in data science and programming tasks. Let's dive into some examples to illustrate these concepts."
   ]
  },
  {
   "cell_type": "code",
   "execution_count": 6,
   "id": "78ada8b4-42b2-43b1-826f-1c46cc9627cc",
   "metadata": {
    "tags": []
   },
   "outputs": [
    {
     "name": "stdout",
     "output_type": "stream",
     "text": [
      "Multiplication Result: 50\n",
      "Addition Result: 35\n"
     ]
    }
   ],
   "source": [
    "# Multiplication\n",
    "num1 = 5\n",
    "num2 = 10\n",
    "result_multiply = num1 * num2\n",
    "print(\"Multiplication Result:\", result_multiply)\n",
    "\n",
    "# Addition\n",
    "num3 = 15\n",
    "num4 = 20\n",
    "result_addition = num3 + num4\n",
    "print(\"Addition Result:\", result_addition)"
   ]
  },
  {
   "cell_type": "code",
   "execution_count": 7,
   "id": "2008047b-46af-4f1b-a734-87db2597ddce",
   "metadata": {
    "tags": []
   },
   "outputs": [
    {
     "name": "stdout",
     "output_type": "stream",
     "text": [
      "150 minutes is equal to 2.5 hours.\n"
     ]
    }
   ],
   "source": [
    "# Function to convert minutes to hours\n",
    "def minutes_to_hours(minutes):\n",
    "    hours = minutes / 60\n",
    "    return hours\n",
    "\n",
    "# Test the function\n",
    "minutes = 150\n",
    "hours = minutes_to_hours(minutes)\n",
    "print(f\"{minutes} minutes is equal to {hours} hours.\")"
   ]
  },
  {
   "cell_type": "markdown",
   "id": "dcfa3428-c13d-4c12-a537-9470213f91ca",
   "metadata": {},
   "source": [
    "**Objectives**\n",
    "\n",
    "1. Familiarize with Markdown syntax and its usage in Jupyter Notebooks.\n",
    "2. Explore common data science languages and libraries.\n",
    "3. Understand basic arithmetic operations and their implementation in Python.\n",
    "4. Practice coding skills by creating functions for converting units of measurement.\n",
    "5. Gain experience in sharing and collaborating on Jupyter Notebooks using GitHub."
   ]
  },
  {
   "cell_type": "markdown",
   "id": "dbcdd10d-ff24-4af0-bccf-c9046a837e72",
   "metadata": {},
   "source": [
    "**Author:**\n",
    "[Antonio Avella]"
   ]
  },
  {
   "cell_type": "code",
   "execution_count": null,
   "id": "8f2f179c-e5bf-4fe4-a286-52fec2218638",
   "metadata": {},
   "outputs": [],
   "source": []
  }
 ],
 "metadata": {
  "kernelspec": {
   "display_name": "Python 3 (ipykernel)",
   "language": "python",
   "name": "python3"
  },
  "language_info": {
   "codemirror_mode": {
    "name": "ipython",
    "version": 3
   },
   "file_extension": ".py",
   "mimetype": "text/x-python",
   "name": "python",
   "nbconvert_exporter": "python",
   "pygments_lexer": "ipython3",
   "version": "3.11.5"
  }
 },
 "nbformat": 4,
 "nbformat_minor": 5
}
